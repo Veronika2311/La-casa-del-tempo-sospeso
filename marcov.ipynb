{
 "cells": [
  {
   "cell_type": "markdown",
   "metadata": {},
   "source": [
    "# Обучение марковских цепей"
   ]
  },
  {
   "cell_type": "code",
   "execution_count": 19,
   "metadata": {},
   "outputs": [],
   "source": [
    "import markovify"
   ]
  },
  {
   "cell_type": "markdown",
   "metadata": {},
   "source": [
    "### Номер раз. Модель только на \"Доме, в котором\""
   ]
  },
  {
   "cell_type": "code",
   "execution_count": 17,
   "metadata": {},
   "outputs": [
    {
     "name": "stdout",
     "output_type": "stream",
     "text": [
      "Самая неприятная тишина там, где много чего прибавлялось и за день.\n",
      "— Окна нашего корпуса выходят на воспитательские, — говорит, не глядя на меня: — Из-за чего вы подрались?\n",
      "А потом я подумал, что вижу их в последний раз, и в сотый раз убедился, что они не видят света, там уже можно встретить настоящего.\n",
      "Живо поворачивается в нашу сторону клубы дыма.\n",
      "— Да, пожалуй, — согласился Ральф. — Кажется, я убил его, — отвечает тихий, почти безразличный голос.\n",
      "Македонский не смотрит на меня.\n",
      "Чего я не могу расслышать.\n",
      "— Со злости, со злости, Горбач, — с удовольствием подтвердил Акула. — Согласовано и одобрено.\n",
      "Не совсем так, как провели бы его друг с другом поквитались и можем спать с чистой совестью.\n",
      "— Мал ты еще знать такие вещи, — говорит он. — Но сейчас его нет.\n"
     ]
    }
   ],
   "source": [
    "with open(\"dom.txt\",encoding='utf-8') as f:\n",
    "    text = f.read()\n",
    "text_model = markovify.Text(text, state_size=3)\n",
    "for i in range(10):\n",
    "    print(text_model.make_short_sentence(500))"
   ]
  },
  {
   "cell_type": "code",
   "execution_count": 25,
   "metadata": {
    "scrolled": true
   },
   "outputs": [
    {
     "data": {
      "text/plain": [
       "'— Ай-ай-ай! — качает головой Слепой. — Я вот защищал-защищал свое ухо, — невпопад сообщает Лэри. — А мне понравилась сказка Лорда, — сказала Русалка мечтательно. — Очень красивая. — Не проси, — качает головой Русалка затягивая у меня под боком. Он прижал ладонь к уху. — Я был котом, — шепчет он непослушными губами. — Если хочешь… Вонючка заморгал, и сияние далеких звезд погасло. Он не знал, что это так прозвучит. — Перестань, Слепой, — просит он. — Огонь — неуправляемая стихия. Провода вырастают из стены и в ней самой нет никаких чувств к воспитанницам, что она относится к ним с букетами хризантем, разводить вокруг покойников сантименты. '"
      ]
     },
     "execution_count": 25,
     "metadata": {},
     "output_type": "execute_result"
    }
   ],
   "source": [
    "new_text = ''\n",
    "for i in range(7):\n",
    "    new_text += text_model.make_short_sentence(1000) + ' '\n",
    "    \n",
    "new_text"
   ]
  },
  {
   "cell_type": "code",
   "execution_count": 28,
   "metadata": {},
   "outputs": [],
   "source": [
    "model_json = text_model.to_json()"
   ]
  },
  {
   "cell_type": "code",
   "execution_count": 30,
   "metadata": {},
   "outputs": [],
   "source": [
    "with open(\"only_dom.json\", 'w', encoding='utf-8') as f:\n",
    "    f.write(model_json)"
   ]
  },
  {
   "cell_type": "code",
   "execution_count": 31,
   "metadata": {},
   "outputs": [],
   "source": [
    "with open(\"only_dom.json\", encoding='utf-8') as f:\n",
    "    m = f.read()"
   ]
  },
  {
   "cell_type": "code",
   "execution_count": 33,
   "metadata": {
    "scrolled": true
   },
   "outputs": [
    {
     "data": {
      "text/plain": [
       "'— Мышиные спинки? — спросил он. — Правда, очень устал.'"
      ]
     },
     "execution_count": 33,
     "metadata": {},
     "output_type": "execute_result"
    }
   ],
   "source": [
    "reconstituted_model = markovify.Text.from_json(m)\n",
    "reconstituted_model.make_short_sentence(280)"
   ]
  },
  {
   "cell_type": "markdown",
   "metadata": {},
   "source": [
    "### Номер два. А если добавить романов?"
   ]
  },
  {
   "cell_type": "code",
   "execution_count": 34,
   "metadata": {},
   "outputs": [
    {
     "name": "stdout",
     "output_type": "stream",
     "text": [
      "— Мы не принимаем подростков с преступными наклонностями, — сказал он с видом врача, сообщающего пациенту, что он неизлечим.\n",
      "Кузнечик посмотрел на Слепого: — Слепой всегда говорит понятно, — сказал он. — Можно я надену твой свитер?\n",
      "Она началась в Самую Длинную, а я не помню большую часть дарителей.\n",
      "Это гора окурков лишь для того, кто мечтает побыть один.\n",
      "Выползаю из люка, растягиваюсь на дощатом полу, но не успеваю выдохнуть, а Ральф уже таранит мною дверь.\n",
      "Я не понял, что это за шум за стеной?\n",
      "— Ты отвратительно выглядишь, — говорит он. — Она выберет то, что выберу я.\n",
      "А если станет, сообщит ли, если Лорду плохо там, где он жил, не могло быть того, что он тут нам развешал по ушам!\n",
      "— Это моя жизнь, — говорит Сфинкс. — Не отнимать же у него рюкзак.\n",
      "Кабинет Януса — единственное место в Доме, потому что на моих пяльцах творится что-то невообразимое.\n"
     ]
    }
   ],
   "source": [
    "with open(\"dom.txt\",encoding='utf-8') as f:\n",
    "    text = f.read()\n",
    "text_model_a = markovify.Text(text, state_size=3)\n",
    "for i in range(10):\n",
    "    print(text_model_b.make_short_sentence(500))"
   ]
  },
  {
   "cell_type": "code",
   "execution_count": 49,
   "metadata": {},
   "outputs": [
    {
     "name": "stdout",
     "output_type": "stream",
     "text": [
      "['Dostoevsky_BednieLyudi.txt', 'Dostoevsky_Besy.txt', 'Dostoevsky_PrestuplenieINakazanie.txt', 'Dostoevsky_UnijennieIOskorblennie.txt', 'Gogol_MertvieDushi.txt', 'Gogol_TarasBulba.txt', 'Goncharov_Oblomov.txt', 'Goncharov_Obryv.txt', 'Goncharov_ObyknovennayaIstoriya.txt', 'Lermontov_GeroyNashegoVremeni.txt', 'Lermontov_KnyaginyaLigovskaya.txt', 'Pushkin_Dubrovsky.txt', 'Pushkin_KapitanskayaDochka.txt', 'Tolstoy_AnnaKarenina.txt', 'Tolstoy_SemeynoeShastye.txt', 'Tolstoy_VoinaIMir.txt', 'Tolstoy_Voskresenie.txt', 'Turgenev_DvoryanskoeGnezdo.txt', 'Turgenev_Dym.txt', 'Turgenev_OtsyIDeti.txt']\n",
      "Dostoevsky_BednieLyudi.txt\n",
      "Dostoevsky_Besy.txt\n",
      "Dostoevsky_PrestuplenieINakazanie.txt\n",
      "Dostoevsky_UnijennieIOskorblennie.txt\n",
      "Gogol_MertvieDushi.txt\n",
      "Gogol_TarasBulba.txt\n",
      "Goncharov_Oblomov.txt\n",
      "Goncharov_Obryv.txt\n",
      "Goncharov_ObyknovennayaIstoriya.txt\n",
      "Lermontov_GeroyNashegoVremeni.txt\n",
      "Lermontov_KnyaginyaLigovskaya.txt\n",
      "Pushkin_Dubrovsky.txt\n",
      "Pushkin_KapitanskayaDochka.txt\n",
      "Tolstoy_AnnaKarenina.txt\n",
      "Tolstoy_SemeynoeShastye.txt\n",
      "Tolstoy_VoinaIMir.txt\n",
      "Tolstoy_Voskresenie.txt\n",
      "Turgenev_DvoryanskoeGnezdo.txt\n",
      "Turgenev_Dym.txt\n",
      "Turgenev_OtsyIDeti.txt\n"
     ]
    }
   ],
   "source": [
    "import os\n",
    "full_text = ''\n",
    "files = list(os.walk('D:/Nika/dhminor/stylometry/corpus'))[0][2]\n",
    "print(files)\n",
    "for file in files:\n",
    "    print(file)\n",
    "    file = 'D:/Nika/dhminor/stylometry/corpus' + '/' + file\n",
    "    with open(file, encoding='utf-8') as f:\n",
    "        text = f.read()\n",
    "        full_text = full_text + text"
   ]
  },
  {
   "cell_type": "code",
   "execution_count": 52,
   "metadata": {},
   "outputs": [
    {
     "name": "stdout",
     "output_type": "stream",
     "text": [
      "Теперь же, когда Левин, под влиянием пришедшей ему мысли и даже те же мысли, которые ему говорились в Можайске.\n",
      "Довольны ли собой и своею жизнью? — Нет, я перешел в армию, — договорил себе Пьер. — Войдите, войдите, — прибавил он, сияя улыбкой и черными, как смоль, бакенбардами.\n",
      "Это неправда! -- сказала она, стараясь отвернуться от него.\n",
      "Ну-с, примите и от меня, и молчал, изредка только покрякивая.\n",
      "хозяйка подумает, что я оставляю ее за собой.\n",
      "6-го числа, в день торжества, в который съедутся гости, Николай знал, что ему суждено проходить через такую школу.\n",
      "-- Видно, в карты играть, -- говорила она, с страдальчески-соболезнующим выражением глядя на него.\n",
      "Мать сидит на диване, поджав ноги под себя, почти улегся в кресло и, прижав голову к платку, оперлась на стол и закрыл лицо руками.\n",
      "Наташа не отвечала на письмо своей приятельницы, Сонечки? -- спросил он. -- Не только я, но и он чувствовал это.\n",
      "Разве я могу быть тем полезен, если убью себя, и что уроки и прочие средства твои прекратились!\n"
     ]
    }
   ],
   "source": [
    "text_model_b = markovify.Text(full_text, state_size=3)\n",
    "for i in range(10):\n",
    "    print(text_model_b.make_short_sentence(500))"
   ]
  },
  {
   "cell_type": "code",
   "execution_count": 55,
   "metadata": {},
   "outputs": [
    {
     "name": "stdout",
     "output_type": "stream",
     "text": [
      "Мне сказали, что смотритель здесь, -- сказал Обломов, -- а ты разве не слышишь? — довольно долго подождав ответа, опять спросил Ростов. — Да вы что, сдурели?\n",
      "Хорошо, что он не знает, что я знаю.\n",
      "Я улыбаюсь в ответ и вдруг с ужасом понимаю, что постарел.\n",
      "Крыса садится на край стола.\n",
      "Как только Ральф ушел, он занял его место на кровати и нянчил ушибленный в драке палец.\n",
      "Они говорят об ней чуть не с презрением. - Мне жаль, что вы этого и хотели. — Я не брезгливый, — ответил я. — Я тебя все-таки нашел! — говорит он. — Ты сюда прыгнул, ты и должен знать.\n",
      "— Потому что он тоже умеет любить.\n",
      "Самое удивительное в ней — в ж.\n",
      "Ростов сделался не в духе и, несмотря на свою лень, он иногда проводил ночи за письменным столом.\n",
      "Но бабушка была уж сама не своя: такая пустота в голове, ничего не вижу!\n"
     ]
    }
   ],
   "source": [
    "model_combo = markovify.combine([ text_model_a, text_model_b ], [ 1.85, 0.15 ])\n",
    "for i in range(10):\n",
    "    print(model_combo.make_short_sentence(500))"
   ]
  },
  {
   "cell_type": "code",
   "execution_count": null,
   "metadata": {},
   "outputs": [],
   "source": []
  }
 ],
 "metadata": {
  "kernelspec": {
   "display_name": "Python 3",
   "language": "python",
   "name": "python3"
  },
  "language_info": {
   "codemirror_mode": {
    "name": "ipython",
    "version": 3
   },
   "file_extension": ".py",
   "mimetype": "text/x-python",
   "name": "python",
   "nbconvert_exporter": "python",
   "pygments_lexer": "ipython3",
   "version": "3.7.4"
  }
 },
 "nbformat": 4,
 "nbformat_minor": 2
}
